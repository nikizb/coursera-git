{
 "cells": [
  {
   "cell_type": "markdown",
   "metadata": {},
   "source": [
    "<center>\n",
    "    <img src=\"https://cf-courses-data.s3.us.cloud-object-storage.appdomain.cloud/IBMDeveloperSkillsNetwork-DS0105EN-SkillsNetwork/labs/Module2/images/SN_web_lightmode.png\" width=\"300\" alt=\"cognitiveclass.ai logo\">\n",
    "</center>\n"
   ]
  },
  {
   "cell_type": "markdown",
   "metadata": {},
   "source": [
    "#### Add your code below following the instructions given in the course\n"
   ]
  },
  {
   "cell_type": "markdown",
   "metadata": {},
   "source": [
    "<a href=\"http://dataplatform.cloud.ibm.com/gallery\">IBM Cloud Gallery </a>"
   ]
  },
  {
   "cell_type": "markdown",
   "metadata": {
    "tags": []
   },
   "source": [
    "# My Jupyter Notebook on IBM Watson Studio "
   ]
  },
  {
   "cell_type": "markdown",
   "metadata": {},
   "source": [
    "**Nikita Zabaluev**\n",
    "\n",
    "Chief Economist "
   ]
  },
  {
   "cell_type": "markdown",
   "metadata": {},
   "source": [
    "*I am interested in Data Science because it is widely used in various spheres* "
   ]
  },
  {
   "cell_type": "markdown",
   "metadata": {},
   "source": [
    "### The next cell should show the sum of two ones"
   ]
  },
  {
   "cell_type": "code",
   "execution_count": 3,
   "metadata": {},
   "outputs": [
    {
     "data": {
      "text/plain": [
       "2"
      ]
     },
     "execution_count": 3,
     "metadata": {},
     "output_type": "execute_result"
    }
   ],
   "source": [
    "1 + 1"
   ]
  },
  {
   "cell_type": "markdown",
   "metadata": {},
   "source": [
    "https://www.google.com/search?q=hyperlinks+in+jupyter+notebook&ei=V4IdZNuyF9KlkwWslJLgBw&oq=hyperlinks+in+ju&gs_lcp=Cgxnd3Mtd2l6LXNlcnAQARgAMgUIABCABDIICAAQigUQhgMyCAgAEIoFEIYDMggIABCKBRCGAzoHCAAQigUQQzoKCC4Q1AIQigUQQzoICAAQigUQkQI6BwguEIoFEEM6CwguEIAEEMcBENEDOhAILhCKBRDHARDRAxBDEOoEOgYIABAWEB5KBAhBGABQAFiqLWCWOWgAcAF4AIABnwKIAdoVkgEGMC4xNC4ymAEAoAEBwAEB&sclient=gws-wiz-serp\n",
    "\n",
    "* list\n",
    "* list\n",
    "* List\n",
    "\n",
    "| Table  | Table  | Table |\n",
    "| -------|:------:| -----:|\n",
    "| 1      | 1.1    | 1.2   |\n",
    "| 2      | 2.1    | 2.2   |\n",
    "| 3      | 3.1    | 3.2   |\n"
   ]
  }
 ],
 "metadata": {
  "kernelspec": {
   "display_name": "Python",
   "language": "python",
   "name": "conda-env-python-py"
  },
  "language_info": {
   "codemirror_mode": {
    "name": "ipython",
    "version": 3
   },
   "file_extension": ".py",
   "mimetype": "text/x-python",
   "name": "python",
   "nbconvert_exporter": "python",
   "pygments_lexer": "ipython3",
   "version": "3.7.12"
  }
 },
 "nbformat": 4,
 "nbformat_minor": 4
}
